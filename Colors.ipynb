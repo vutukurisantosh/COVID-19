{
  "nbformat": 4,
  "nbformat_minor": 0,
  "metadata": {
    "colab": {
      "name": "Colors.ipynb",
      "provenance": [],
      "include_colab_link": true
    },
    "kernelspec": {
      "name": "python3",
      "display_name": "Python 3"
    },
    "accelerator": "GPU"
  },
  "cells": [
    {
      "cell_type": "markdown",
      "metadata": {
        "id": "view-in-github",
        "colab_type": "text"
      },
      "source": [
        "<a href=\"https://colab.research.google.com/github/vutukurisantosh/COVID-19/blob/master/Colors.ipynb\" target=\"_parent\"><img src=\"https://colab.research.google.com/assets/colab-badge.svg\" alt=\"Open In Colab\"/></a>"
      ]
    },
    {
      "cell_type": "code",
      "metadata": {
        "id": "C4kin5dTf8yu",
        "colab_type": "code",
        "colab": {}
      },
      "source": [
        "import pandas as pd\n",
        "import numpy as np"
      ],
      "execution_count": 0,
      "outputs": []
    },
    {
      "cell_type": "code",
      "metadata": {
        "id": "yFO5jYUggPcn",
        "colab_type": "code",
        "colab": {}
      },
      "source": [
        "Cid=[]\n",
        "Red=[]\n",
        "Amber=[]\n",
        "Green=[]\n",
        "n=0\n",
        "for i in range(0,256,1):\n",
        "    for j in range(0,256,1):\n",
        "        for k in range(0,256,1):\n",
        "            Cid.append(n)\n",
        "            Red.append(i)\n",
        "            Amber.append(j)\n",
        "            Green.append(k)\n",
        "            n=n+1"
      ],
      "execution_count": 0,
      "outputs": []
    },
    {
      "cell_type": "code",
      "metadata": {
        "id": "HVTPIn6NgTiY",
        "colab_type": "code",
        "colab": {}
      },
      "source": [
        "df = pd.DataFrame({'CID':Cid,'Red':Red,'Amber':Amber,'Green':Green})\n",
        "data = df.drop('CID', axis=1)"
      ],
      "execution_count": 0,
      "outputs": []
    },
    {
      "cell_type": "code",
      "metadata": {
        "id": "sYZy5efwgdVA",
        "colab_type": "code",
        "colab": {}
      },
      "source": [
        "from sklearn.cluster import KMeans\n",
        "import matplotlib.pyplot as plt"
      ],
      "execution_count": 0,
      "outputs": []
    },
    {
      "cell_type": "code",
      "metadata": {
        "id": "5dHVo_l8giYZ",
        "colab_type": "code",
        "outputId": "ff6c461b-833e-4ae5-ca0b-e9d58259b87e",
        "colab": {
          "base_uri": "https://localhost:8080/",
          "height": 290
        }
      },
      "source": [
        "sse = {}\n",
        "for k in range(1, 10):\n",
        "    kmeans = KMeans(n_clusters=k).fit(data)\n",
        "    data[\"clusters\"] = kmeans.labels_\n",
        "    #print(data[\"clusters\"])\n",
        "    sse[k] = kmeans.inertia_\n",
        "plt.figure()\n",
        "plt.plot(list(sse.keys()), list(sse.values()))\n",
        "plt.xlabel(\"Number of cluster\")\n",
        "plt.ylabel(\"SSE\")\n",
        "plt.show()"
      ],
      "execution_count": 0,
      "outputs": [
        {
          "output_type": "display_data",
          "data": {
            "image/png": "[encoded data removed]",
            "text/plain": [
              "<Figure size 432x288 with 1 Axes>"
            ]
          },
          "metadata": {
            "tags": []
          }
        }
      ]
    },
    {
      "cell_type": "code",
      "metadata": {
        "id": "d4U2nv3yg1qF",
        "colab_type": "code",
        "colab": {}
      },
      "source": [
        "kmeans1 = KMeans(n_clusters=7).fit(data)\n",
        "data[\"clusters\"] = kmeans1.labels_"
      ],
      "execution_count": 0,
      "outputs": []
    }
  ]
}